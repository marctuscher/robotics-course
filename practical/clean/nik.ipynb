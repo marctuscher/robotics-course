{
 "cells": [
  {
   "cell_type": "code",
   "execution_count": 5,
   "metadata": {
    "slideshow": {
     "slide_type": "slide"
    }
   },
   "outputs": [],
   "source": [
    "%reload_ext autoreload\n",
    "%autoreload 2\n",
    "%config IPCompleter.greedy=True\n",
    "%matplotlib inline\n",
    "  \n",
    "import numpy as np\n",
    "import matplotlib.pyplot as plt\n",
    "from matplotlib import colors\n",
    "STANDARD_COLORS = [\n",
    "    'AliceBlue', 'Chartreuse', 'Aqua', 'Aquamarine', 'Azure', 'Beige', 'Bisque',\n",
    "    'BlanchedAlmond', 'BlueViolet', 'BurlyWood', 'CadetBlue', 'AntiqueWhite',\n",
    "    'Chocolate', 'Coral', 'CornflowerBlue', 'Cornsilk', 'Crimson', 'Cyan',\n",
    "    'DarkCyan', 'DarkGoldenRod', 'DarkGrey', 'DarkKhaki', 'DarkOrange',\n",
    "    'DarkOrchid', 'DarkSalmon', 'DarkSeaGreen', 'DarkTurquoise', 'DarkViolet',\n",
    "    'DeepPink', 'DeepSkyBlue', 'DodgerBlue', 'FireBrick', 'FloralWhite',\n",
    "    'ForestGreen', 'Fuchsia', 'Gainsboro', 'GhostWhite', 'Gold', 'GoldenRod',\n",
    "    'Salmon', 'Tan', 'HoneyDew', 'HotPink', 'IndianRed', 'Ivory', 'Khaki',\n",
    "    'Lavender', 'LavenderBlush', 'LawnGreen', 'LemonChiffon', 'LightBlue',\n",
    "    'LightCoral', 'LightCyan', 'LightGoldenRodYellow', 'LightGray', 'LightGrey',\n",
    "    'LightGreen', 'LightPink', 'LightSalmon', 'LightSeaGreen', 'LightSkyBlue',\n",
    "    'LightSlateGray', 'LightSlateGrey', 'LightSteelBlue', 'LightYellow', 'Lime',\n",
    "    'LimeGreen', 'Linen', 'Magenta', 'MediumAquaMarine', 'MediumOrchid',\n",
    "    'MediumPurple', 'MediumSeaGreen', 'MediumSlateBlue', 'MediumSpringGreen',\n",
    "    'MediumTurquoise', 'MediumVioletRed', 'MintCream', 'MistyRose', 'Moccasin',\n",
    "    'NavajoWhite', 'OldLace', 'Olive', 'OliveDrab', 'Orange', 'OrangeRed',\n",
    "    'Orchid', 'PaleGoldenRod', 'PaleGreen', 'PaleTurquoise', 'PaleVioletRed',\n",
    "    'PapayaWhip', 'PeachPuff', 'Peru', 'Pink', 'Plum', 'PowderBlue', 'Purple',\n",
    "    'Red', 'RosyBrown', 'RoyalBlue', 'SaddleBrown', 'Green', 'SandyBrown',\n",
    "    'SeaGreen', 'SeaShell', 'Sienna', 'Silver', 'SkyBlue', 'SlateBlue',\n",
    "    'SlateGray', 'SlateGrey', 'Snow', 'SpringGreen', 'SteelBlue', 'GreenYellow',\n",
    "    'Teal', 'Thistle', 'Tomato', 'Turquoise', 'Violet', 'Wheat', 'White',\n",
    "    'WhiteSmoke', 'Yellow', 'YellowGreen'\n",
    "]"
   ]
  },
  {
   "cell_type": "code",
   "execution_count": 6,
   "metadata": {
    "slideshow": {
     "slide_type": "slide"
    }
   },
   "outputs": [
    {
     "name": "stdout",
     "output_type": "stream",
     "text": [
      "/home/niklas/git/uni/robotics-course/practical/clean\n"
     ]
    }
   ],
   "source": [
    "# the following cells will use the rai framework for robot control, simulation and motion planning\n",
    "# https://github.com/MarcToussaint/rai\n",
    "import sys\n",
    "import os \n",
    "print(os.getcwd())\n",
    "# add the folder where libry.so is located to the path. Otherwise the import will crash.\n",
    "sys.path.append('../../ry/')\n",
    "sys.path.append('../../')\n",
    "sys.path.append('../')\n",
    "import libry as ry\n",
    "import time\n",
    "import gc\n",
    "import os\n",
    "from collections import defaultdict\n",
    "import utils\n",
    "\n",
    "# add simulation. Note: if the string argument is not an empty string, a ROS node is started\n",
    "# and the joint state topics of the real baxter are subscribed. This won't work if you can't connect to Baxter.\n",
    "# In order to connect to Baxter, uncomment the next 2 lines and set the correct IP address:\n",
    "os.environ[\"ROS_MASTER_URI\"] = \"http://thecount.local:11311/\"\n",
    "os.environ[\"ROS_IP\"] = \"129.69.216.200\""
   ]
  },
  {
   "cell_type": "code",
   "execution_count": 7,
   "metadata": {},
   "outputs": [],
   "source": [
    "\"\"\"\n",
    "total ERROR = 0.00241405\n",
    "total ERROR after radius correction = 0.00221046\n",
    "*** total Pinv:\n",
    "[0.00180045, 5.51994e-06, -0.569533, -0.0330757,\n",
    " -1.82321e-06, -0.00133149, 1.00136, 0.125005,\n",
    " 5.08217e-05, -0.00117336, -0.439092, 1.55487]\n",
    "*** camera intrinsics K:\n",
    "[555.197, -8.21031, -334.467,\n",
    " 0, -563.526, -271.392,\n",
    " 0, 0, -1.02162]\n",
    "*** camera world pos: [-0.0330757, 0.125005, 1.55487]\n",
    "*** camera world rot: [0.935411, 0.35328, -0.0133783, 0.00451155]\n",
    "\"\"\"\n",
    "cam_world_pos= [-0.0330757, 0.125005, 1.55487]\n",
    "cam_world_rot= [0.935411, 0.35328, -0.0133783, 0.00451155]\n",
    "chestCamIntrinsics = {'fx': 555.197 , \n",
    "                       'fy':  -563.526, \n",
    "                       'cx': -334.467, \n",
    "                       'cy': -271.392, 'width': 640, 'height':480}\n",
    "cam_rot = [0.935411, 0.35328, -0.0133783, 0.00451155]\n",
    "K = np.array([\n",
    "[555.197, -8.21031, -334.467],\n",
    " [0, -563.526, -271.392],\n",
    " [0, 0, -1.02162]\n",
    "])\n",
    "pinv_chest = np.array([[0.00180045, 5.51994e-06, -0.569533, -0.0330757],\n",
    "  [-1.82321e-06, -0.00133149, 1.00136, 0.125005],\n",
    "  [5.08217e-05, -0.00117336, -0.439092, 1.55487]])"
   ]
  },
  {
   "cell_type": "code",
   "execution_count": 27,
   "metadata": {},
   "outputs": [],
   "source": [
    "# clear views, config and operate by setting shared pointers to 0. Otherwise the notebook has to be restarted,\n",
    "# which is pretty annoying.\n",
    "C = 0\n",
    "v = 0\n",
    "B = 0\n",
    "gc.collect()\n",
    "    \n",
    "# initialize config\n",
    "C = ry.Config()\n",
    "v = C.view()\n",
    "C.clear()\n",
    "C.addFile('../../rai-robotModels/baxter/baxter_new.g')\n",
    "cam = C.addObject(name=\"cam\", parent=\"base_footprint\", shape=ry.ST.sphere, size=[0.01], color=[0,1,0], pos=cam_world_pos, quat=cam_world_rot)\n",
    "nodeName = \"camMarc\"\n",
    "\n",
    "q_home = C.getJointState()\n",
    "q_zero = q_home.copy() * 0.\n",
    "B = C.operate(nodeName)\n",
    "B.sync(C)\n",
    "C.makeObjectsConvex()\n",
    "B.sendToReal(False)"
   ]
  },
  {
   "cell_type": "code",
   "execution_count": 28,
   "metadata": {},
   "outputs": [],
   "source": [
    "B.sendToReal(True)"
   ]
  },
  {
   "cell_type": "code",
   "execution_count": 63,
   "metadata": {},
   "outputs": [],
   "source": [
    "q_home_cycling = np.asarray([-0.04410195, -0.34936412, 0.65692727, -0.41417481, -0.19328158, 1.11098559, -1.19535453, 1.06496616, 1.31807299, -0.53650978, 0.35856801, 1.14550015, 0.96180595, 1.14665064, -0.3117816, 0.0 ,0.0])\n",
    "B.move(q_home, [4.0], True)"
   ]
  },
  {
   "cell_type": "code",
   "execution_count": 64,
   "metadata": {},
   "outputs": [
    {
     "name": "stdout",
     "output_type": "stream",
     "text": [
      "[ 0.   -0.37  0.37 -0.66 -0.66  1.3  -1.3   1.74  1.74 -0.27  0.27  1.02\n",
      "  1.02  0.5  -0.5   0.1   0.  ]\n"
     ]
    }
   ],
   "source": [
    "print(q_home)"
   ]
  },
  {
   "cell_type": "code",
   "execution_count": 62,
   "metadata": {},
   "outputs": [],
   "source": [
    "\n",
    "B.move(q_home_cycling, [4.0], True)"
   ]
  },
  {
   "cell_type": "code",
   "execution_count": 44,
   "metadata": {},
   "outputs": [],
   "source": [
    "B.moveHard(q_home.copy()*0)"
   ]
  },
  {
   "cell_type": "code",
   "execution_count": null,
   "metadata": {},
   "outputs": [],
   "source": []
  }
 ],
 "metadata": {
  "celltoolbar": "Slideshow",
  "kernelspec": {
   "display_name": "Python 3",
   "language": "python",
   "name": "python3"
  },
  "language_info": {
   "codemirror_mode": {
    "name": "ipython",
    "version": 3
   },
   "file_extension": ".py",
   "mimetype": "text/x-python",
   "name": "python",
   "nbconvert_exporter": "python",
   "pygments_lexer": "ipython3",
   "version": "3.6.7"
  }
 },
 "nbformat": 4,
 "nbformat_minor": 2
}
