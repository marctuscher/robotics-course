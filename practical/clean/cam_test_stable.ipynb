{
 "cells": [
  {
   "cell_type": "code",
   "execution_count": 1,
   "metadata": {
    "slideshow": {
     "slide_type": "slide"
    }
   },
   "outputs": [],
   "source": [
    "%reload_ext autoreload\n",
    "%autoreload 2\n",
    "%config IPCompleter.greedy=True\n",
    "%matplotlib inline\n",
    "  \n",
    "import numpy as np\n",
    "import matplotlib.pyplot as plt\n",
    "from matplotlib import colors\n",
    "STANDARD_COLORS = [\n",
    "    'AliceBlue', 'Chartreuse', 'Aqua', 'Aquamarine', 'Azure', 'Beige', 'Bisque',\n",
    "    'BlanchedAlmond', 'BlueViolet', 'BurlyWood', 'CadetBlue', 'AntiqueWhite',\n",
    "    'Chocolate', 'Coral', 'CornflowerBlue', 'Cornsilk', 'Crimson', 'Cyan',\n",
    "    'DarkCyan', 'DarkGoldenRod', 'DarkGrey', 'DarkKhaki', 'DarkOrange',\n",
    "    'DarkOrchid', 'DarkSalmon', 'DarkSeaGreen', 'DarkTurquoise', 'DarkViolet',\n",
    "    'DeepPink', 'DeepSkyBlue', 'DodgerBlue', 'FireBrick', 'FloralWhite',\n",
    "    'ForestGreen', 'Fuchsia', 'Gainsboro', 'GhostWhite', 'Gold', 'GoldenRod',\n",
    "    'Salmon', 'Tan', 'HoneyDew', 'HotPink', 'IndianRed', 'Ivory', 'Khaki',\n",
    "    'Lavender', 'LavenderBlush', 'LawnGreen', 'LemonChiffon', 'LightBlue',\n",
    "    'LightCoral', 'LightCyan', 'LightGoldenRodYellow', 'LightGray', 'LightGrey',\n",
    "    'LightGreen', 'LightPink', 'LightSalmon', 'LightSeaGreen', 'LightSkyBlue',\n",
    "    'LightSlateGray', 'LightSlateGrey', 'LightSteelBlue', 'LightYellow', 'Lime',\n",
    "    'LimeGreen', 'Linen', 'Magenta', 'MediumAquaMarine', 'MediumOrchid',\n",
    "    'MediumPurple', 'MediumSeaGreen', 'MediumSlateBlue', 'MediumSpringGreen',\n",
    "    'MediumTurquoise', 'MediumVioletRed', 'MintCream', 'MistyRose', 'Moccasin',\n",
    "    'NavajoWhite', 'OldLace', 'Olive', 'OliveDrab', 'Orange', 'OrangeRed',\n",
    "    'Orchid', 'PaleGoldenRod', 'PaleGreen', 'PaleTurquoise', 'PaleVioletRed',\n",
    "    'PapayaWhip', 'PeachPuff', 'Peru', 'Pink', 'Plum', 'PowderBlue', 'Purple',\n",
    "    'Red', 'RosyBrown', 'RoyalBlue', 'SaddleBrown', 'Green', 'SandyBrown',\n",
    "    'SeaGreen', 'SeaShell', 'Sienna', 'Silver', 'SkyBlue', 'SlateBlue',\n",
    "    'SlateGray', 'SlateGrey', 'Snow', 'SpringGreen', 'SteelBlue', 'GreenYellow',\n",
    "    'Teal', 'Thistle', 'Tomato', 'Turquoise', 'Violet', 'Wheat', 'White',\n",
    "    'WhiteSmoke', 'Yellow', 'YellowGreen'\n",
    "]"
   ]
  },
  {
   "cell_type": "code",
   "execution_count": 2,
   "metadata": {
    "slideshow": {
     "slide_type": "slide"
    }
   },
   "outputs": [
    {
     "name": "stdout",
     "output_type": "stream",
     "text": [
      "/home/ralfi/git/robotics-course/practical/clean\n"
     ]
    },
    {
     "name": "stderr",
     "output_type": "stream",
     "text": [
      "/home/ralfi/.local/lib/python3.6/site-packages/quaternion/numba_wrapper.py:20: UserWarning: \n",
      "\n",
      "!!!!!!!!!!!!!!!!!!!!!!!!!!!!!!!!!!!!!!!!!!!!!!!!!!!!!\n",
      "Could not import from numba, which means that some\n",
      "parts of this code may run MUCH more slowly.  You\n",
      "may wish to install numba.\n",
      "!!!!!!!!!!!!!!!!!!!!!!!!!!!!!!!!!!!!!!!!!!!!!!!!!!!!!\n",
      "\n",
      "  warnings.warn(warning_text)\n"
     ]
    }
   ],
   "source": [
    "# the following cells will use the rai framework for robot control, simulation and motion planning\n",
    "# https://github.com/MarcToussaint/rai\n",
    "import sys\n",
    "import os \n",
    "print(os.getcwd())\n",
    "# add the folder where libry.so is located to the path. Otherwise the import will crash.\n",
    "sys.path.append('../../ry/')\n",
    "sys.path.append('../../')\n",
    "sys.path.append('../')\n",
    "import libry as ry\n",
    "import time\n",
    "import gc\n",
    "import os\n",
    "from collections import defaultdict\n",
    "import utils\n",
    "\n",
    "# add simulation. Note: if the string argument is not an empty string, a ROS node is started\n",
    "# and the joint state topics of the real baxter are subscribed. This won't work if you can't connect to Baxter.\n",
    "# In order to connect to Baxter, uncomment the next 2 lines and set the correct IP address:\n",
    "os.environ[\"ROS_MASTER_URI\"] = \"http://thecount.local:11311/\"\n",
    "os.environ[\"ROS_IP\"] = \"129.69.216.153\""
   ]
  },
  {
   "cell_type": "code",
   "execution_count": 3,
   "metadata": {},
   "outputs": [],
   "source": [
    "\"\"\"\n",
    "total ERROR = 0.00241405\n",
    "total ERROR after radius correction = 0.00221046\n",
    "*** total Pinv:\n",
    "[0.00180045, 5.51994e-06, -0.569533, -0.0330757,\n",
    " -1.82321e-06, -0.00133149, 1.00136, 0.125005,\n",
    " 5.08217e-05, -0.00117336, -0.439092, 1.55487]\n",
    "*** camera intrinsics K:\n",
    "[555.197, -8.21031, -334.467,\n",
    " 0, -563.526, -271.392,\n",
    " 0, 0, -1.02162]\n",
    "*** camera world pos: [-0.0330757, 0.125005, 1.55487]\n",
    "*** camera world rot: [0.935411, 0.35328, -0.0133783, 0.00451155]\n",
    "\"\"\"\n",
    "cam_world_pos= [-0.0330757, 0.125005, 1.55487]\n",
    "cam_world_rot= [0.935411, 0.35328, -0.0133783, 0.00451155]\n",
    "chestCamIntrinsics = {'fx': 555.197 , \n",
    "                       'fy':  -563.526, \n",
    "                       'cx': -334.467, \n",
    "                       'cy': -271.392, 'width': 640, 'height':480}\n",
    "cam_rot = [0.935411, 0.35328, -0.0133783, 0.00451155]\n",
    "K = np.array([\n",
    "[555.197, -8.21031, -334.467],\n",
    " [0, -563.526, -271.392],\n",
    " [0, 0, -1.02162]\n",
    "])\n",
    "pinv_chest = np.array([[0.00180045, 5.51994e-06, -0.569533, -0.0330757],\n",
    "  [-1.82321e-06, -0.00133149, 1.00136, 0.125005],\n",
    "  [5.08217e-05, -0.00117336, -0.439092, 1.55487]])"
   ]
  },
  {
   "cell_type": "code",
   "execution_count": 4,
   "metadata": {},
   "outputs": [],
   "source": [
    "# clear views, config and operate by setting shared pointers to 0. Otherwise the notebook has to be restarted,\n",
    "# which is pretty annoying.\n",
    "C = 0\n",
    "v = 0\n",
    "B = 0\n",
    "gc.collect()\n",
    "    \n",
    "# initialize config\n",
    "C = ry.Config()\n",
    "v = C.view()\n",
    "C.clear()\n",
    "C.addFile('../../rai-robotModels/baxter/baxter_new.g')\n",
    "cam = C.addObject(name=\"cam\", parent=\"base_footprint\", shape=ry.ST.sphere, size=[0.01], color=[0,1,0], pos=cam_world_pos, quat=cam_world_rot)\n",
    "nodeName = \"ralf\"\n",
    "\n",
    "q_home = C.getJointState()\n",
    "q_zero = q_home.copy() * 0.\n",
    "B = C.operate(nodeName)\n",
    "B.sync(C)\n",
    "C.makeObjectsConvex()\n",
    "B.sendToReal(False)"
   ]
  },
  {
   "cell_type": "code",
   "execution_count": null,
   "metadata": {},
   "outputs": [],
   "source": [
    "q_home"
   ]
  },
  {
   "cell_type": "code",
   "execution_count": 5,
   "metadata": {},
   "outputs": [],
   "source": [
    "def check_target(targetFrame):\n",
    "    if not targetFrame in C.getFrameNames():\n",
    "        frame = C.addObject(name=targetFrame, parent=\"base_footprint\" ,shape=ry.ST.sphere, size=[.01], pos=[0,0,0], color=[0.,0.,1.])\n",
    "    return C.frame(targetFrame)\n",
    "\n",
    "def close_gripper(close=True):\n",
    "    B.sync(C)\n",
    "    q = C.getJointState()\n",
    "    if close:\n",
    "        q[-2] = 0.04\n",
    "    else:\n",
    "        q[-2] = 0\n",
    "    B.moveHard(q)\n",
    "\n",
    "def plan_path(targetPos, angle, targetFrame, gripperFrame, steps, time):\n",
    "    intermediatePos = cam_world_pos + 0.9 * (targetPos - cam_world_pos)\n",
    "    intermediate = check_target(\"intermediate\")\n",
    "    target = check_target(targetFrame)\n",
    "    rotA = utils.rotz(angle)\n",
    "    rotC = utils.quat2rotm(cam_rot)\n",
    "    rotM = rotA @ rotC\n",
    "    B.sync(C)\n",
    "    quat = utils.rotm2quat(rotM)\n",
    "    target.setPosition(targetPos)\n",
    "    intermediate.setPosition(intermediatePos)\n",
    "    target.setQuaternion(quat)\n",
    "    pp = C.komo_path(1, 30, 10, False)\n",
    "    pp.setConfigurations(C)\n",
    "    pp.clearObjectives()\n",
    "    pp.addObjective(type=ry.OT.eq, feature=ry.FS.scalarProductYZ, frames=[gripperFrame, targetFrame], target=[0], time=[.5, 1])\n",
    "    pp.addObjective(type= ry.OT.eq, feature= ry.FS.scalarProductZZ, frames= [gripperFrame, \"cam\"], target= [1], time= [.5, 1])\n",
    "    #pp.addObjective(type= ry.OT.sos,feature= ry.FS.qItself, frames= [], target= q_home, time=[1.])\n",
    "    pp.addObjective(type= ry.OT.eq, feature= ry.FS.distance, frames= [gripperFrame, 'intermediate'], target= [0], time= [.5])\n",
    "    pp.addObjective(type= ry.OT.eq, feature= ry.FS.positionDiff, frames= [gripperFrame, targetFrame], target=[0,0,-0.04],time= [1.])\n",
    "    pp.addObjective(type= ry.OT.sos, feature= ry.FS.qItself, frames= [], order= 1,  time= [0, 1])\n",
    "    pp.optimize(False)\n",
    "    t = pp.getT()\n",
    "    path = []\n",
    "    for i in range(t):\n",
    "        frames = pp.getConfiguration(i)\n",
    "        C.setFrameState(frames)\n",
    "        q = C.getJointState()\n",
    "        q[-2] = 0\n",
    "        q[-1] = 0\n",
    "        path += [q]\n",
    "    return path, pp"
   ]
  },
  {
   "cell_type": "code",
   "execution_count": 7,
   "metadata": {},
   "outputs": [],
   "source": [
    "B.sendToReal(True)\n",
    "B.moveHard(q_home)\n",
    "close_gripper(False)"
   ]
  },
  {
   "cell_type": "code",
   "execution_count": null,
   "metadata": {},
   "outputs": [],
   "source": [
    "B.sendToReal(True)"
   ]
  },
  {
   "cell_type": "code",
   "execution_count": null,
   "metadata": {},
   "outputs": [],
   "source": [
    "B.moveHard(q_zero)"
   ]
  },
  {
   "cell_type": "code",
   "execution_count": 3,
   "metadata": {},
   "outputs": [],
   "source": [
    "from webserver import sampleClient\n",
    "import vision\n",
    "import cv2\n",
    "from skimage import measure, morphology"
   ]
  },
  {
   "cell_type": "code",
   "execution_count": 4,
   "metadata": {},
   "outputs": [],
   "source": [
    "cam = ry.Camera(\"camMarc\", \"/camera/rgb/image_rect_color\", \"/camera/depth/image_rect_raw\", True)"
   ]
  },
  {
   "cell_type": "code",
   "execution_count": 5,
   "metadata": {},
   "outputs": [],
   "source": [
    "img = cam.getRgb()\n",
    "d = cam.getDepth()"
   ]
  },
  {
   "cell_type": "code",
   "execution_count": 6,
   "metadata": {},
   "outputs": [
    {
     "data": {
      "text/plain": [
       "<matplotlib.image.AxesImage at 0x7f09f4f6a160>"
      ]
     },
     "execution_count": 6,
     "metadata": {},
     "output_type": "execute_result"
    },
    {
     "data": {
      "image/png": "[encoded data removed]",
      "text/plain": [
       "<Figure size 432x288 with 1 Axes>"
      ]
     },
     "metadata": {
      "needs_background": "light"
     },
     "output_type": "display_data"
    }
   ],
   "source": [
    "plt.imshow(d)"
   ]
  },
  {
   "cell_type": "code",
   "execution_count": 7,
   "metadata": {},
   "outputs": [
    {
     "data": {
      "text/plain": [
       "<matplotlib.image.AxesImage at 0x7f09f405acc0>"
      ]
     },
     "execution_count": 7,
     "metadata": {},
     "output_type": "execute_result"
    },
    {
     "data": {
      "image/png": "[encoded data removed]",
      "text/plain": [
       "<Figure size 432x288 with 1 Axes>"
      ]
     },
     "metadata": {
      "needs_background": "light"
     },
     "output_type": "display_data"
    }
   ],
   "source": [
    "dm, m = vision.maskDepth(d, 0.7,1.4 )\n",
    "m = cv2.medianBlur(m.astype(np.uint8), 5)\n",
    "plt.imshow(m)"
   ]
  },
  {
   "cell_type": "code",
   "execution_count": 8,
   "metadata": {},
   "outputs": [],
   "source": [
    "segmask = sampleClient.predictMask(d)"
   ]
  },
  {
   "cell_type": "code",
   "execution_count": 9,
   "metadata": {},
   "outputs": [
    {
     "data": {
      "text/plain": [
       "{'class_ids': array([1., 1., 1., 1., 1., 1., 1., 1., 1., 1.], dtype=float32),\n",
       " 'masks': array([[[0., 0., 0., ..., 0., 0., 0.],\n",
       "         [0., 0., 0., ..., 0., 0., 0.],\n",
       "         [0., 0., 0., ..., 0., 0., 0.],\n",
       "         ...,\n",
       "         [0., 0., 0., ..., 0., 0., 0.],\n",
       "         [0., 0., 0., ..., 0., 0., 0.],\n",
       "         [0., 0., 0., ..., 0., 0., 0.]],\n",
       " \n",
       "        [[0., 0., 0., ..., 0., 0., 0.],\n",
       "         [0., 0., 0., ..., 0., 0., 0.],\n",
       "         [0., 0., 0., ..., 0., 0., 0.],\n",
       "         ...,\n",
       "         [0., 0., 0., ..., 0., 0., 0.],\n",
       "         [0., 0., 0., ..., 0., 0., 0.],\n",
       "         [0., 0., 0., ..., 0., 0., 0.]],\n",
       " \n",
       "        [[0., 0., 0., ..., 0., 0., 0.],\n",
       "         [0., 0., 0., ..., 0., 0., 0.],\n",
       "         [0., 0., 0., ..., 0., 0., 0.],\n",
       "         ...,\n",
       "         [0., 0., 0., ..., 0., 0., 0.],\n",
       "         [0., 0., 0., ..., 0., 0., 0.],\n",
       "         [0., 0., 0., ..., 0., 0., 0.]],\n",
       " \n",
       "        ...,\n",
       " \n",
       "        [[0., 0., 0., ..., 0., 0., 0.],\n",
       "         [0., 0., 0., ..., 0., 0., 0.],\n",
       "         [0., 0., 0., ..., 0., 0., 0.],\n",
       "         ...,\n",
       "         [0., 0., 0., ..., 0., 0., 0.],\n",
       "         [0., 0., 0., ..., 0., 0., 0.],\n",
       "         [0., 0., 0., ..., 0., 0., 0.]],\n",
       " \n",
       "        [[0., 0., 0., ..., 0., 0., 0.],\n",
       "         [0., 0., 0., ..., 0., 0., 0.],\n",
       "         [0., 0., 0., ..., 0., 0., 0.],\n",
       "         ...,\n",
       "         [0., 0., 0., ..., 0., 0., 0.],\n",
       "         [0., 0., 0., ..., 0., 0., 0.],\n",
       "         [0., 0., 0., ..., 0., 0., 0.]],\n",
       " \n",
       "        [[0., 0., 0., ..., 0., 0., 0.],\n",
       "         [0., 0., 0., ..., 0., 0., 0.],\n",
       "         [0., 0., 0., ..., 0., 0., 0.],\n",
       "         ...,\n",
       "         [0., 0., 0., ..., 0., 0., 0.],\n",
       "         [0., 0., 0., ..., 0., 0., 0.],\n",
       "         [0., 0., 0., ..., 0., 0., 0.]]], dtype=float32),\n",
       " 'rois': array([[ 18., 473., 164., 640.],\n",
       "        [ 61., 229., 168., 377.],\n",
       "        [187., 251., 339., 343.],\n",
       "        [ 17.,   9., 300., 296.],\n",
       "        [276., 268., 340., 346.],\n",
       "        [ 10., 288., 316., 584.],\n",
       "        [ 16.,  15., 101., 317.],\n",
       "        [  7., 431.,  26., 479.],\n",
       "        [282.,  20., 465., 208.],\n",
       "        [  9., 320.,  26., 397.]], dtype=float32),\n",
       " 'scores': array([0.9941095 , 0.9904366 , 0.9778917 , 0.93982875, 0.912843  ,\n",
       "        0.88283527, 0.83536094, 0.81177187, 0.7813106 , 0.7389459 ],\n",
       "       dtype=float32)}"
      ]
     },
     "execution_count": 9,
     "metadata": {},
     "output_type": "execute_result"
    }
   ],
   "source": [
    "segmask"
   ]
  },
  {
   "cell_type": "code",
   "execution_count": 10,
   "metadata": {},
   "outputs": [
    {
     "data": {
      "image/png": "[encoded data removed]",
      "text/plain": [
       "<Figure size 432x288 with 1 Axes>"
      ]
     },
     "metadata": {
      "needs_background": "light"
     },
     "output_type": "display_data"
    },
    {
     "data": {
      "image/png": "[encoded data removed]",
      "text/plain": [
       "<Figure size 432x288 with 1 Axes>"
      ]
     },
     "metadata": {
      "needs_background": "light"
     },
     "output_type": "display_data"
    },
    {
     "data": {
      "image/png": "[encoded data removed]",
      "text/plain": [
       "<Figure size 432x288 with 1 Axes>"
      ]
     },
     "metadata": {
      "needs_background": "light"
     },
     "output_type": "display_data"
    },
    {
     "data": {
      "image/png": "[encoded data removed]",
      "text/plain": [
       "<Figure size 432x288 with 1 Axes>"
      ]
     },
     "metadata": {
      "needs_background": "light"
     },
     "output_type": "display_data"
    },
    {
     "data": {
      "image/png": "[encoded data removed]",
      "text/plain": [
       "<Figure size 432x288 with 1 Axes>"
      ]
     },
     "metadata": {
      "needs_background": "light"
     },
     "output_type": "display_data"
    },
    {
     "data": {
      "image/png": "[encoded data removed]",
      "text/plain": [
       "<Figure size 432x288 with 1 Axes>"
      ]
     },
     "metadata": {
      "needs_background": "light"
     },
     "output_type": "display_data"
    },
    {
     "data": {
      "image/png": "[encoded data removed]",
      "text/plain": [
       "<Figure size 432x288 with 1 Axes>"
      ]
     },
     "metadata": {
      "needs_background": "light"
     },
     "output_type": "display_data"
    },
    {
     "data": {
      "image/png": "[encoded data removed]",
      "text/plain": [
       "<Figure size 432x288 with 1 Axes>"
      ]
     },
     "metadata": {
      "needs_background": "light"
     },
     "output_type": "display_data"
    },
    {
     "data": {
      "image/png": "[encoded data removed]",
      "text/plain": [
       "<Figure size 432x288 with 1 Axes>"
      ]
     },
     "metadata": {
      "needs_background": "light"
     },
     "output_type": "display_data"
    },
    {
     "data": {
      "image/png": "[encoded data removed]",
      "text/plain": [
       "<Figure size 432x288 with 1 Axes>"
      ]
     },
     "metadata": {
      "needs_background": "light"
     },
     "output_type": "display_data"
    }
   ],
   "source": [
    "image = img.copy()\n",
    "rcolors = np.random.randint(0, len(STANDARD_COLORS), size=len(segmask[\"masks\"]))\n",
    "for i, mask in enumerate(segmask[\"masks\"]):\n",
    "    plt.figure()\n",
    "    plt.imshow(mask)\n",
    "    c = colors.to_rgb(STANDARD_COLORS[rcolors[i]])\n",
    "    #mask = np.bitwise_and(mask.astype(np.bool), m.astype(np.bool))\n",
    "    colored = np.ones((*mask.shape, 3)) * c\n",
    "    colored[~mask.astype(np.bool)] = 0\n",
    "    image = cv2.addWeighted(image.astype(np.uint8),1, (colored * 255).astype(np.uint8), 0.9, 0)\n"
   ]
  },
  {
   "cell_type": "code",
   "execution_count": 11,
   "metadata": {},
   "outputs": [],
   "source": [
    "gx = 0\n",
    "gy = 0\n",
    "ind = 0\n",
    "clicked = False\n",
    "def mouse_callback(event, x, y, flags, params):\n",
    "\n",
    "    #right-click event value is 2\n",
    "    if event == 1:\n",
    "        global gx, gy, ind, clicked\n",
    "\n",
    "        #store the coordinates of the right-click event\n",
    "\n",
    "        gx = x\n",
    "        gy = y\n",
    "        #this just verifies that the mouse data is being collected\n",
    "        #you probably want to remove this later\n",
    "        for i, mask in enumerate(segmask[\"masks\"]):\n",
    "            if mask[y, x]:\n",
    "                ind = i\n",
    "                clicked = True\n",
    "                break\n",
    "\n",
    "#set mouse callback function for window\n",
    "scale_width = 640 / image.shape[1]\n",
    "scale_height = 480 / image.shape[0]\n",
    "scale = min(scale_width, scale_height)\n",
    "window_width = int(image.shape[1] * scale)\n",
    "window_height = int(image.shape[0] * scale)\n",
    "cv2.namedWindow('image', cv2.WINDOW_NORMAL)\n",
    "cv2.resizeWindow('image', window_width, window_height)\n",
    "cv2.setMouseCallback('image', mouse_callback)\n",
    "while not clicked:\n",
    "    cv2.imshow('image',image)\n",
    "    k = cv2.waitKey(20) & 0xFF\n",
    "    if k == 27:\n",
    "        break\n",
    "    elif k == ord('a'):\n",
    "        print (gx,gy)"
   ]
  },
  {
   "cell_type": "code",
   "execution_count": 12,
   "metadata": {},
   "outputs": [
    {
     "data": {
      "text/plain": [
       "8"
      ]
     },
     "execution_count": 12,
     "metadata": {},
     "output_type": "execute_result"
    }
   ],
   "source": [
    "ind"
   ]
  },
  {
   "cell_type": "code",
   "execution_count": null,
   "metadata": {
    "scrolled": true
   },
   "outputs": [],
   "source": [
    "grasp = sampleClient.predictGQCNN_pj(img, d, host=\"http://multitask.ddnss.de:5000\", segmask=m, **chestCamIntrinsics)\n",
    "vision.plotCircleAroundCenter(img, grasp[\"x\"], grasp[\"y\"])"
   ]
  },
  {
   "cell_type": "code",
   "execution_count": null,
   "metadata": {},
   "outputs": [],
   "source": [
    "grasp = sampleClient.predictFCGQCNN_pj(img, d, segmask[\"masks\"][ind],host=\"http://multitask.ddnss.de:5000\", **chestCamIntrinsics)\n",
    "vision.plotCircleAroundCenter(img, grasp[\"x\"], grasp[\"y\"])"
   ]
  },
  {
   "cell_type": "code",
   "execution_count": null,
   "metadata": {},
   "outputs": [],
   "source": [
    "grasp_p, x, y = vision.getGraspPosition_noIntr(d,grasp[\"x\"], grasp[\"y\"])\n",
    "x = pinv_chest @ np.array(list(grasp_p) + [1])\n",
    "steps = 30; time = 10\n",
    "B.sendToReal(False)\n",
    "B.moveHard(q_home)\n",
    "p, pp = plan_path(x, grasp[\"angle\"], \"ball\", \"baxterR\", steps, time)"
   ]
  },
  {
   "cell_type": "code",
   "execution_count": null,
   "metadata": {},
   "outputs": [],
   "source": [
    "B.sendToReal(True)\n",
    "close_gripper(False)\n",
    "B.move(p, [time/steps * i for i in range(len(p))], False)"
   ]
  },
  {
   "cell_type": "code",
   "execution_count": null,
   "metadata": {},
   "outputs": [],
   "source": [
    "close_gripper(True)"
   ]
  },
  {
   "cell_type": "code",
   "execution_count": null,
   "metadata": {},
   "outputs": [],
   "source": [
    "B.moveHard(q_home)"
   ]
  },
  {
   "cell_type": "code",
   "execution_count": null,
   "metadata": {},
   "outputs": [],
   "source": [
    "B.sendToReal(False)"
   ]
  },
  {
   "cell_type": "code",
   "execution_count": null,
   "metadata": {},
   "outputs": [],
   "source": [
    "B.sendToReal(True)"
   ]
  },
  {
   "cell_type": "code",
   "execution_count": null,
   "metadata": {},
   "outputs": [],
   "source": []
  }
 ],
 "metadata": {
  "celltoolbar": "Slideshow",
  "kernelspec": {
   "display_name": "Python 3",
   "language": "python",
   "name": "python3"
  },
  "language_info": {
   "codemirror_mode": {
    "name": "ipython",
    "version": 3
   },
   "file_extension": ".py",
   "mimetype": "text/x-python",
   "name": "python",
   "nbconvert_exporter": "python",
   "pygments_lexer": "ipython3",
   "version": "3.6.8"
  }
 },
 "nbformat": 4,
 "nbformat_minor": 4
}
