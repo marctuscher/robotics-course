{
 "cells": [
  {
   "cell_type": "code",
   "execution_count": 2,
   "metadata": {
    "slideshow": {
     "slide_type": "slide"
    }
   },
   "outputs": [],
   "source": [
    "%reload_ext autoreload\n",
    "%autoreload 2\n",
    "%config IPCompleter.greedy=True\n",
    "%matplotlib inline\n",
    "  \n",
    "import numpy as np\n",
    "import matplotlib.pyplot as plt\n"
   ]
  },
  {
   "cell_type": "code",
   "execution_count": 3,
   "metadata": {
    "slideshow": {
     "slide_type": "fragment"
    }
   },
   "outputs": [
    {
     "data": {
      "application/javascript": [
       "IPython.OutputArea.prototype._should_scroll = function(lines) {\n",
       "    return false;\n",
       "}\n"
      ],
      "text/plain": [
       "<IPython.core.display.Javascript object>"
      ]
     },
     "metadata": {},
     "output_type": "display_data"
    }
   ],
   "source": [
    "%%javascript\n",
    "IPython.OutputArea.prototype._should_scroll = function(lines) {\n",
    "    return false;\n",
    "}"
   ]
  },
  {
   "cell_type": "code",
   "execution_count": 72,
   "metadata": {
    "slideshow": {
     "slide_type": "slide"
    }
   },
   "outputs": [
    {
     "name": "stdout",
     "output_type": "stream",
     "text": [
      "/home/niklas/git/uni/robotics-course/practical/clean\n"
     ]
    }
   ],
   "source": [
    "# the following cells will use the rai framework for robot control, simulation and motion planning\n",
    "# https://github.com/MarcToussaint/rai\n",
    "import sys\n",
    "import os \n",
    "print(os.getcwd())\n",
    "# add the folder where libry.so is located to the path. Otherwise the import will crash.\n",
    "sys.path.append('../../ry/')\n",
    "sys.path.append('../../')\n",
    "sys.path.append('../')\n",
    "import libry as ry\n",
    "import time\n",
    "import gc\n",
    "import os\n",
    "from collections import defaultdict\n",
    "import utils\n",
    "\n",
    "# add simulation. Note: if the string argument is not an empty string, a ROS node is started\n",
    "# and the joint state topics of the real baxter are subscribed. This won't work if you can't connect to Baxter.\n",
    "# In order to connect to Baxter, uncomment the next 2 lines and set the correct IP address:\n",
    "os.environ[\"ROS_MASTER_URI\"] = \"http://thecount.local:11311/\"\n",
    "os.environ[\"ROS_IP\"] = \"129.69.216.204\""
   ]
  },
  {
   "cell_type": "code",
   "execution_count": 73,
   "metadata": {
    "slideshow": {
     "slide_type": "fragment"
    }
   },
   "outputs": [],
   "source": [
    "# clear views, config and operate by setting shared pointers to 0. Otherwise the notebook has to be restarted,\n",
    "# which is pretty annoying.\n",
    "C = 0\n",
    "v = 0\n",
    "B = 0\n",
    "gc.collect()\n",
    "    \n",
    "# initialize config\n",
    "C = ry.Config()\n",
    "v = C.view()\n",
    "C.clear()\n",
    "C.addFile('../../rai-robotModels/baxter/baxter_new.g')\n",
    "nodeName = \"\"#\"studentMarcsNode\"\n",
    "\n",
    "q_home = C.getJointState()\n",
    "q_zero = q_home * 0.\n",
    "B = C.operate(nodeName)\n",
    "B.sync(C)\n",
    "C.makeObjectsConvex()\n",
    "B.sendToReal(False)"
   ]
  },
  {
   "cell_type": "code",
   "execution_count": null,
   "metadata": {},
   "outputs": [],
   "source": [
    "cam = ry.Camera(nodeName, \"\")"
   ]
  },
  {
   "cell_type": "code",
   "execution_count": 108,
   "metadata": {},
   "outputs": [],
   "source": [
    "def check_target(targetFrame):\n",
    "    if not targetFrame in C.getFrameNames():\n",
    "        frame = C.addObject(name=targetFrame, parent=\"base_footprint\" ,shape=ry.ST.sphere, size=[.01], pos=[0,0,0], color=[0.,0.,1.])\n",
    "    return C.frame(targetFrame)\n",
    "\n",
    "def plan_path(targetPos, angle,targetFrame, gripperFrame, steps, time):\n",
    "    target = check_target(targetFrame)\n",
    "    rotM = utils.rotz(angle)\n",
    "    B.sync(C)\n",
    "    quat = utils.rotm2quat(rotM)\n",
    "    target.setPosition(targetPos)\n",
    "    target.setQuaternion(quat)\n",
    "    pp = C.komo_path(1, 30, 10, False)\n",
    "    pp.setConfigurations(C)\n",
    "    pp.clearObjectives()\n",
    "    pp.addObjective(type=ry.OT.eq, feature=ry.FS.scalarProductYZ, frames=[gripperFrame, targetFrame], target=[0], time=[])\n",
    "    pp.addObjective(type= ry.OT.eq, feature= ry.FS.scalarProductZZ, frames= [gripperFrame, targetFrame], target= [1], time= [])\n",
    "    pp.addObjective(type= ry.OT.sos,feature= ry.FS.qItself, frames= [], target= q_home, time= [1.])\n",
    "    pp.addObjective(type= ry.OT.eq, feature= ry.FS.distance, frames= [gripperFrame, targetFrame], target= [-0.2], time= [.8])\n",
    "    pp.addObjective(type= ry.OT.eq, feature= ry.FS.positionDiff, frames= [gripperFrame, targetFrame], time= [1.])\n",
    "    pp.addObjective(type= ry.OT.sos, feature= ry.FS.qItself, frames= [], order= 1,  time= [0, 1])\n",
    "    pp.optimize(False)\n",
    "    t = pp.getT()\n",
    "    path = []\n",
    "    for i in range(t):\n",
    "        frames = pp.getConfiguration(i)\n",
    "        C.setFrameState(frames)\n",
    "        q = C.getJointState()\n",
    "        path += [q]\n",
    "    return path, pp"
   ]
  },
  {
   "cell_type": "code",
   "execution_count": 109,
   "metadata": {},
   "outputs": [],
   "source": [
    "B.moveHard(q_home)"
   ]
  },
  {
   "cell_type": "code",
   "execution_count": 111,
   "metadata": {},
   "outputs": [],
   "source": [
    "steps = 30; time = 5\n",
    "p, _ = plan_path([0.4, 0, 1], 1.2, \"ball\", \"baxterR\", steps, time)"
   ]
  },
  {
   "cell_type": "code",
   "execution_count": 112,
   "metadata": {},
   "outputs": [],
   "source": [
    "B.move(p, [time/steps * i for i in range(len(p))], False)"
   ]
  },
  {
   "cell_type": "code",
   "execution_count": 93,
   "metadata": {},
   "outputs": [
    {
     "data": {
      "text/plain": [
       "[array([ 0.     ,  0.08001, -0.08001, -1.00001, -1.00001,  1.17001,\n",
       "        -1.17001,  1.94001,  1.94001, -0.67001,  0.67001,  1.02001,\n",
       "         1.02001,  0.50001, -0.50001,  0.     ,  0.     ]),\n",
       " array([ 0.     ,  0.08001, -0.08001, -1.00001, -1.00001,  1.17001,\n",
       "        -1.17001,  1.94001,  1.94001, -0.67001,  0.67001,  1.02001,\n",
       "         1.02001,  0.50001, -0.50001,  0.     ,  0.     ]),\n",
       " array([ 0.     ,  0.08001, -0.08001, -1.00001, -1.00001,  1.17001,\n",
       "        -1.17001,  1.94001,  1.94001, -0.67001,  0.67001,  1.02001,\n",
       "         1.02001,  0.50001, -0.50001,  0.     ,  0.     ]),\n",
       " array([ 0.     ,  0.08001, -0.08001, -1.00001, -1.00001,  1.17001,\n",
       "        -1.17001,  1.94001,  1.94001, -0.67001,  0.67001,  1.02001,\n",
       "         1.02001,  0.50001, -0.50001,  0.     ,  0.     ]),\n",
       " array([ 0.     ,  0.08001, -0.08001, -1.00001, -1.00001,  1.17001,\n",
       "        -1.17001,  1.94001,  1.94001, -0.67001,  0.67001,  1.02001,\n",
       "         1.02001,  0.50001, -0.50001,  0.     ,  0.     ]),\n",
       " array([ 0.     ,  0.08001, -0.08001, -1.00001, -1.00001,  1.17001,\n",
       "        -1.17001,  1.94001,  1.94001, -0.67001,  0.67001,  1.02001,\n",
       "         1.02001,  0.50001, -0.50001,  0.     ,  0.     ]),\n",
       " array([ 0.     ,  0.08001, -0.08001, -1.00001, -1.00001,  1.17001,\n",
       "        -1.17001,  1.94001,  1.94001, -0.67001,  0.67001,  1.02001,\n",
       "         1.02001,  0.50001, -0.50001,  0.     ,  0.     ]),\n",
       " array([ 0.     ,  0.08001, -0.08001, -1.00001, -1.00001,  1.17001,\n",
       "        -1.17001,  1.94001,  1.94001, -0.67001,  0.67001,  1.02001,\n",
       "         1.02001,  0.50001, -0.50001,  0.     ,  0.     ]),\n",
       " array([ 0.     ,  0.08001, -0.08001, -1.00001, -1.00001,  1.17001,\n",
       "        -1.17001,  1.94001,  1.94001, -0.67001,  0.67001,  1.02001,\n",
       "         1.02001,  0.50001, -0.50001,  0.     ,  0.     ]),\n",
       " array([ 0.     ,  0.08001, -0.08001, -1.00001, -1.00001,  1.17001,\n",
       "        -1.17001,  1.94001,  1.94001, -0.67001,  0.67001,  1.02001,\n",
       "         1.02001,  0.50001, -0.50001,  0.     ,  0.     ]),\n",
       " array([ 0.     ,  0.08001, -0.08001, -1.00001, -1.00001,  1.17001,\n",
       "        -1.17001,  1.94001,  1.94001, -0.67001,  0.67001,  1.02001,\n",
       "         1.02001,  0.50001, -0.50001,  0.     ,  0.     ]),\n",
       " array([ 0.     ,  0.08001, -0.08001, -1.00001, -1.00001,  1.17001,\n",
       "        -1.17001,  1.94001,  1.94001, -0.67001,  0.67001,  1.02001,\n",
       "         1.02001,  0.50001, -0.50001,  0.     ,  0.     ]),\n",
       " array([ 0.     ,  0.08001, -0.08001, -1.00001, -1.00001,  1.17001,\n",
       "        -1.17001,  1.94001,  1.94001, -0.67001,  0.67001,  1.02001,\n",
       "         1.02001,  0.50001, -0.50001,  0.     ,  0.     ]),\n",
       " array([ 0.     ,  0.08001, -0.08001, -1.00001, -1.00001,  1.17001,\n",
       "        -1.17001,  1.94001,  1.94001, -0.67001,  0.67001,  1.02001,\n",
       "         1.02001,  0.50001, -0.50001,  0.     ,  0.     ]),\n",
       " array([ 0.     ,  0.08001, -0.08001, -1.00001, -1.00001,  1.17001,\n",
       "        -1.17001,  1.94001,  1.94001, -0.67001,  0.67001,  1.02001,\n",
       "         1.02001,  0.50001, -0.50001,  0.     ,  0.     ]),\n",
       " array([ 0.     ,  0.08001, -0.08001, -1.00001, -1.00001,  1.17001,\n",
       "        -1.17001,  1.94001,  1.94001, -0.67001,  0.67001,  1.02001,\n",
       "         1.02001,  0.50001, -0.50001,  0.     ,  0.     ]),\n",
       " array([ 0.     ,  0.08001, -0.08001, -1.00001, -1.00001,  1.17001,\n",
       "        -1.17001,  1.94001,  1.94001, -0.67001,  0.67001,  1.02001,\n",
       "         1.02001,  0.50001, -0.50001,  0.     ,  0.     ]),\n",
       " array([ 0.     ,  0.08001, -0.08001, -1.00001, -1.00001,  1.17001,\n",
       "        -1.17001,  1.94001,  1.94001, -0.67001,  0.67001,  1.02001,\n",
       "         1.02001,  0.50001, -0.50001,  0.     ,  0.     ]),\n",
       " array([ 0.     ,  0.08001, -0.08001, -1.00001, -1.00001,  1.17001,\n",
       "        -1.17001,  1.94001,  1.94001, -0.67001,  0.67001,  1.02001,\n",
       "         1.02001,  0.50001, -0.50001,  0.     ,  0.     ]),\n",
       " array([ 0.     ,  0.08001, -0.08001, -1.00001, -1.00001,  1.17001,\n",
       "        -1.17001,  1.94001,  1.94001, -0.67001,  0.67001,  1.02001,\n",
       "         1.02001,  0.50001, -0.50001,  0.     ,  0.     ]),\n",
       " array([ 0.     ,  0.08001, -0.08001, -1.00001, -1.00001,  1.17001,\n",
       "        -1.17001,  1.94001,  1.94001, -0.67001,  0.67001,  1.02001,\n",
       "         1.02001,  0.50001, -0.50001,  0.     ,  0.     ]),\n",
       " array([ 0.     ,  0.08001, -0.08001, -1.00001, -1.00001,  1.17001,\n",
       "        -1.17001,  1.94001,  1.94001, -0.67001,  0.67001,  1.02001,\n",
       "         1.02001,  0.50001, -0.50001,  0.     ,  0.     ]),\n",
       " array([ 0.     ,  0.08001, -0.08001, -1.00001, -1.00001,  1.17001,\n",
       "        -1.17001,  1.94001,  1.94001, -0.67001,  0.67001,  1.02001,\n",
       "         1.02001,  0.50001, -0.50001,  0.     ,  0.     ]),\n",
       " array([ 0.     ,  0.08001, -0.08001, -1.00001, -1.00001,  1.17001,\n",
       "        -1.17001,  1.94001,  1.94001, -0.67001,  0.67001,  1.02001,\n",
       "         1.02001,  0.50001, -0.50001,  0.     ,  0.     ]),\n",
       " array([ 0.     ,  0.08001, -0.08001, -1.00001, -1.00001,  1.17001,\n",
       "        -1.17001,  1.94001,  1.94001, -0.67001,  0.67001,  1.02001,\n",
       "         1.02001,  0.50001, -0.50001,  0.     ,  0.     ]),\n",
       " array([ 0.     ,  0.08001, -0.08001, -1.00001, -1.00001,  1.17001,\n",
       "        -1.17001,  1.94001,  1.94001, -0.67001,  0.67001,  1.02001,\n",
       "         1.02001,  0.50001, -0.50001,  0.     ,  0.     ]),\n",
       " array([ 0.     ,  0.08001, -0.08001, -1.00001, -1.00001,  1.17001,\n",
       "        -1.17001,  1.94001,  1.94001, -0.67001,  0.67001,  1.02001,\n",
       "         1.02001,  0.50001, -0.50001,  0.     ,  0.     ]),\n",
       " array([ 0.     ,  0.08001, -0.08001, -1.00001, -1.00001,  1.17001,\n",
       "        -1.17001,  1.94001,  1.94001, -0.67001,  0.67001,  1.02001,\n",
       "         1.02001,  0.50001, -0.50001,  0.     ,  0.     ]),\n",
       " array([ 0.     ,  0.08001, -0.08001, -1.00001, -1.00001,  1.17001,\n",
       "        -1.17001,  1.94001,  1.94001, -0.67001,  0.67001,  1.02001,\n",
       "         1.02001,  0.50001, -0.50001,  0.     ,  0.     ]),\n",
       " array([ 0.        ,  0.36607261, -0.08001   , -0.63663367, -1.00001   ,\n",
       "         1.06541841, -1.17001   ,  2.06503686,  1.94001   , -0.65423171,\n",
       "         0.67001   ,  0.80418108,  1.02001   ,  0.50001012, -0.50001   ,\n",
       "         0.        ,  0.        ])]"
      ]
     },
     "execution_count": 93,
     "metadata": {},
     "output_type": "execute_result"
    }
   ],
   "source": [
    "p"
   ]
  },
  {
   "cell_type": "code",
   "execution_count": 29,
   "metadata": {},
   "outputs": [],
   "source": [
    "from webserver import sampleClient"
   ]
  },
  {
   "cell_type": "code",
   "execution_count": null,
   "metadata": {},
   "outputs": [],
   "source": [
    "grasp = sampleClient.predictGQCNN()"
   ]
  }
 ],
 "metadata": {
  "celltoolbar": "Slideshow",
  "kernelspec": {
   "display_name": "Python 3",
   "language": "python",
   "name": "python3"
  },
  "language_info": {
   "codemirror_mode": {
    "name": "ipython",
    "version": 3
   },
   "file_extension": ".py",
   "mimetype": "text/x-python",
   "name": "python",
   "nbconvert_exporter": "python",
   "pygments_lexer": "ipython3",
   "version": "3.6.7"
  }
 },
 "nbformat": 4,
 "nbformat_minor": 2
}
